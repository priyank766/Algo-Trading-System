{
 "cells": [
  {
   "cell_type": "markdown",
   "metadata": {},
   "source": [
    "# Phase 5: ML Model Training"
   ]
  },
  {
   "cell_type": "markdown",
   "metadata": {},
   "source": [
    "This notebook implements the steps for Phase 5: training a machine learning model to predict stock price movement."
   ]
  },
  {
   "cell_type": "code",
   "execution_count": 6,
   "metadata": {},
   "outputs": [],
   "source": [
    "import pandas as pd\n",
    "import numpy as np\n",
    "import os\n",
    "import matplotlib.pyplot as plt\n",
    "import seaborn as sns\n",
    "from sklearn.linear_model import LogisticRegression\n",
    "from sklearn.tree import DecisionTreeClassifier\n",
    "from sklearn.ensemble import RandomForestClassifier\n",
    "from xgboost import XGBClassifier\n",
    "from sklearn.model_selection import GridSearchCV\n",
    "from sklearn.metrics import accuracy_score, precision_score, f1_score, roc_auc_score, RocCurveDisplay"
   ]
  },
  {
   "cell_type": "markdown",
   "metadata": {},
   "source": [
    "## 1. Load Data"
   ]
  },
  {
   "cell_type": "code",
   "execution_count": 7,
   "metadata": {},
   "outputs": [
    {
     "name": "stdout",
     "output_type": "stream",
     "text": [
      "Loaded 2480 rows of data.\n"
     ]
    }
   ],
   "source": [
    "data_path = '../data/'\n",
    "stock_files = [f for f in os.listdir(data_path) if f.endswith('.csv')]\n",
    "all_data_frames = []\n",
    "column_names = ['Date', 'Close', 'High', 'Low', 'Open', 'Volume']\n",
    "\n",
    "for stock_file in stock_files:\n",
    "    stock_name = stock_file.replace('.csv', '')\n",
    "    try:\n",
    "        df = pd.read_csv(os.path.join(data_path, stock_file), header=0)\n",
    "        if 'Date' not in df.columns:\n",
    "             df = pd.read_csv(os.path.join(data_path, stock_file), skiprows=3, header=None, names=column_names)\n",
    "    except Exception as e:\n",
    "        print(f\"Could not process {stock_file}. Error: {e}. Skipping file.\")\n",
    "        continue\n",
    "\n",
    "    df['Date'] = pd.to_datetime(df['Date'])\n",
    "    df = df.sort_values(by='Date')\n",
    "    df['Stock'] = stock_name\n",
    "    all_data_frames.append(df)\n",
    "\n",
    "combined_df = pd.concat(all_data_frames, ignore_index=True)\n",
    "print(f\"Loaded {len(combined_df)} rows of data.\")"
   ]
  },
  {
   "cell_type": "markdown",
   "metadata": {},
   "source": [
    "## 2. Feature Engineering"
   ]
  },
  {
   "cell_type": "code",
   "execution_count": 8,
   "metadata": {},
   "outputs": [
    {
     "name": "stdout",
     "output_type": "stream",
     "text": [
      "Features engineered successfully.\n"
     ]
    }
   ],
   "source": [
    "def create_features(df):\n",
    "    df = df.sort_values(by=['Stock', 'Date'])\n",
    "    # RSI\n",
    "    delta = df.groupby('Stock')['Close'].diff()\n",
    "    gain = (delta.where(delta > 0, 0)).rolling(window=14).mean()\n",
    "    loss = (-delta.where(delta < 0, 0)).rolling(window=14).mean()\n",
    "    rs = gain / loss\n",
    "    df['RSI'] = 100 - (100 / (1 + rs))\n",
    "\n",
    "    # MACD\n",
    "    exp1 = df.groupby('Stock')['Close'].transform(lambda x: x.ewm(span=12, adjust=False).mean())\n",
    "    exp2 = df.groupby('Stock')['Close'].transform(lambda x: x.ewm(span=26, adjust=False).mean())\n",
    "    df['MACD'] = exp1 - exp2\n",
    "\n",
    "    # Volume Change\n",
    "    df['Volume_Change'] = df.groupby('Stock')['Volume'].transform(lambda x: x.diff())\n",
    "\n",
    "    # Target variable: 1 if next day's close is higher, 0 otherwise\n",
    "    df['Target'] = df.groupby('Stock')['Close'].transform(lambda x: (x.shift(-1) > x).astype(int))\n",
    "\n",
    "    return df.dropna()\n",
    "\n",
    "processed_df = create_features(combined_df.copy())\n",
    "print(\"Features engineered successfully.\")"
   ]
  },
  {
   "cell_type": "markdown",
   "metadata": {},
   "source": [
    "## 3. Data Splitting"
   ]
  },
  {
   "cell_type": "code",
   "execution_count": 9,
   "metadata": {},
   "outputs": [
    {
     "name": "stdout",
     "output_type": "stream",
     "text": [
      "Data split into 1966 training samples and 492 testing samples.\n"
     ]
    }
   ],
   "source": [
    "features = ['RSI', 'MACD', 'Volume_Change']\n",
    "X = processed_df[features]\n",
    "y = processed_df['Target']\n",
    "\n",
    "# Using a chronological split for time-series data\n",
    "train_size = int(len(processed_df) * 0.8)\n",
    "X_train, X_test = X.iloc[:train_size], X.iloc[train_size:]\n",
    "y_train, y_test = y.iloc[:train_size], y.iloc[train_size:]\n",
    "\n",
    "print(f\"Data split into {len(X_train)} training samples and {len(X_test)} testing samples.\")"
   ]
  },
  {
   "cell_type": "markdown",
   "metadata": {},
   "source": [
    "## 4. Model Training and Hyperparameter Tuning"
   ]
  },
  {
   "cell_type": "code",
   "execution_count": 10,
   "metadata": {},
   "outputs": [],
   "source": [
    "models = {\n",
    "    'LogisticRegression': (LogisticRegression(random_state=42, solver='liblinear', max_iter=1000), {\n",
    "        'C': [0.1, 1.0, 10.0],\n",
    "        'penalty': ['l1', 'l2']\n",
    "    }),\n",
    "    'DecisionTree': (DecisionTreeClassifier(random_state=42), {\n",
    "        'max_depth': [None, 10, 20, 30],\n",
    "        'min_samples_split': [2, 5, 10]\n",
    "    }),\n",
    "    'RandomForest': (RandomForestClassifier(random_state=42), {\n",
    "        'n_estimators': [100, 200],\n",
    "        'max_depth': [10, 20, None],\n",
    "        'min_samples_split': [2, 5]\n",
    "    }),\n",
    "    'XGBClassifier': (XGBClassifier(random_state=42, use_label_encoder=False, eval_metric='logloss'), {\n",
    "        'n_estimators': [100, 200],\n",
    "        'max_depth': [3, 5, 7],\n",
    "        'learning_rate': [0.01, 0.1]\n",
    "    })\n",
    "}\n"
   ]
  },
  {
   "cell_type": "code",
   "execution_count": 11,
   "metadata": {},
   "outputs": [],
   "source": [
    "best_overall_model = None\n",
    "best_overall_f1 = 0\n",
    "best_overall_model_name = ''"
   ]
  },
  {
   "cell_type": "code",
   "execution_count": 12,
   "metadata": {},
   "outputs": [
    {
     "name": "stdout",
     "output_type": "stream",
     "text": [
      "--- Tuning LogisticRegression ---\n"
     ]
    },
    {
     "name": "stderr",
     "output_type": "stream",
     "text": [
      "c:\\Users\\Priyank\\Documents\\CODE\\intern\\.venv\\Lib\\site-packages\\sklearn\\model_selection\\_search.py:317: UserWarning: The total space of parameters 6 is smaller than n_iter=10. Running 6 iterations. For exhaustive searches, use GridSearchCV.\n",
      "  warnings.warn(\n"
     ]
    },
    {
     "name": "stdout",
     "output_type": "stream",
     "text": [
      "Best parameters: {'penalty': 'l1', 'C': 10.0}\n",
      "Tuned F1-Score: 0.6379\n",
      "--- Tuning DecisionTree ---\n",
      "Best parameters: {'min_samples_split': 2, 'max_depth': None}\n",
      "Tuned F1-Score: 0.5175\n",
      "--- Tuning RandomForest ---\n",
      "Best parameters: {'n_estimators': 200, 'min_samples_split': 5, 'max_depth': None}\n",
      "Tuned F1-Score: 0.4805\n",
      "--- Tuning XGBClassifier ---\n",
      "Best parameters: {'n_estimators': 100, 'max_depth': 3, 'learning_rate': 0.01}\n",
      "Tuned F1-Score: 0.6298\n",
      "\n",
      "Best overall model is LogisticRegression with an F1-Score of 0.6379\n"
     ]
    },
    {
     "name": "stderr",
     "output_type": "stream",
     "text": [
      "c:\\Users\\Priyank\\Documents\\CODE\\intern\\.venv\\Lib\\site-packages\\xgboost\\training.py:183: UserWarning: [15:38:04] WARNING: C:\\actions-runner\\_work\\xgboost\\xgboost\\src\\learner.cc:738: \n",
      "Parameters: { \"use_label_encoder\" } are not used.\n",
      "\n",
      "  bst.update(dtrain, iteration=i, fobj=obj)\n"
     ]
    }
   ],
   "source": [
    "from sklearn.model_selection import RandomizedSearchCV\n",
    "import scipy.stats as stats\n",
    "\n",
    "for name, (model, params) in models.items():\n",
    "    print(f\"--- Tuning {name} ---\")\n",
    "    randomized_search = RandomizedSearchCV(\n",
    "        model,\n",
    "        params,\n",
    "        n_iter=10,\n",
    "        cv=5,\n",
    "        scoring='f1',\n",
    "        n_jobs=-1,\n",
    "        random_state=42\n",
    "    )\n",
    "    randomized_search.fit(X_train, y_train)\n",
    "    \n",
    "    best_model = randomized_search.best_estimator_\n",
    "    y_pred = best_model.predict(X_test)\n",
    "    f1 = f1_score(y_test, y_pred)\n",
    "    \n",
    "    print(f\"Best parameters: {randomized_search.best_params_}\")\n",
    "    print(f\"Tuned F1-Score: {f1:.4f}\")\n",
    "\n",
    "    if f1 > best_overall_f1:\n",
    "        best_overall_f1 = f1\n",
    "        best_overall_model = best_model\n",
    "        best_overall_model_name = name\n",
    "\n",
    "print(f\"\\nBest overall model is {best_overall_model_name} with an F1-Score of {best_overall_f1:.4f}\")"
   ]
  },
  {
   "cell_type": "markdown",
   "metadata": {},
   "source": [
    "## 5. Final Model Evaluation and Plotting"
   ]
  },
  {
   "cell_type": "code",
   "execution_count": 13,
   "metadata": {},
   "outputs": [
    {
     "name": "stdout",
     "output_type": "stream",
     "text": [
      "--- Final Performance for LogisticRegression ---\n",
      "Accuracy: 0.4878\n",
      "Precision: 0.4847\n",
      "F1-Score: 0.6379\n",
      "ROC AUC: 0.5177\n"
     ]
    }
   ],
   "source": [
    "y_pred_final = best_overall_model.predict(X_test)\n",
    "y_proba_final = best_overall_model.predict_proba(X_test)[:, 1]\n",
    "\n",
    "final_accuracy = accuracy_score(y_test, y_pred_final)\n",
    "final_precision = precision_score(y_test, y_pred_final)\n",
    "final_f1 = f1_score(y_test, y_pred_final)\n",
    "final_roc_auc = roc_auc_score(y_test, y_proba_final)\n",
    "\n",
    "print(f\"--- Final Performance for {best_overall_model_name} ---\")\n",
    "print(f\"Accuracy: {final_accuracy:.4f}\")\n",
    "print(f\"Precision: {final_precision:.4f}\")\n",
    "print(f\"F1-Score: {final_f1:.4f}\")\n",
    "print(f\"ROC AUC: {final_roc_auc:.4f}\")"
   ]
  },
  {
   "cell_type": "code",
   "execution_count": 14,
   "metadata": {},
   "outputs": [
    {
     "data": {
      "text/plain": [
       "<Figure size 800x600 with 0 Axes>"
      ]
     },
     "metadata": {},
     "output_type": "display_data"
    },
    {
     "data": {
      "image/png": "[encoded data removed]",
      "text/plain": [
       "<Figure size 640x480 with 1 Axes>"
      ]
     },
     "metadata": {},
     "output_type": "display_data"
    }
   ],
   "source": [
    "# Plotting ROC Curve\n",
    "plt.figure(figsize=(8, 6))\n",
    "RocCurveDisplay.from_estimator(best_overall_model, X_test, y_test)\n",
    "plt.title(f'ROC Curve for {best_overall_model_name}')\n",
    "plt.grid(True)\n",
    "plt.show()\n"
   ]
  },
  {
   "cell_type": "code",
   "execution_count": 15,
   "metadata": {},
   "outputs": [
    {
     "name": "stderr",
     "output_type": "stream",
     "text": [
      "C:\\Users\\Priyank\\AppData\\Local\\Temp\\ipykernel_24284\\1564335207.py:6: FutureWarning: \n",
      "\n",
      "Passing `palette` without assigning `hue` is deprecated and will be removed in v0.14.0. Assign the `x` variable to `hue` and set `legend=False` for the same effect.\n",
      "\n",
      "  sns.barplot(x=metrics_names, y=metrics_values, palette='viridis')\n"
     ]
    },
    {
     "data": {
      "image/png": "[encoded data removed]",
      "text/plain": [
       "<Figure size 1000x600 with 1 Axes>"
      ]
     },
     "metadata": {},
     "output_type": "display_data"
    }
   ],
   "source": [
    "\n",
    "# Plotting performance metrics\n",
    "metrics_names = ['Accuracy', 'Precision', 'F1-Score', 'ROC AUC']\n",
    "metrics_values = [final_accuracy, final_precision, final_f1, final_roc_auc]\n",
    "\n",
    "plt.figure(figsize=(10, 6))\n",
    "sns.barplot(x=metrics_names, y=metrics_values, palette='viridis')\n",
    "plt.title(f'Performance Metrics for {best_overall_model_name}')\n",
    "plt.ylim(0, 1)\n",
    "for index, value in enumerate(metrics_values):\n",
    "    plt.text(index, value + 0.02, f'{value:.2f}', ha='center')\n",
    "plt.show()"
   ]
  },
  {
   "cell_type": "markdown",
   "metadata": {},
   "source": [
    "## 6. Saving the Best Model"
   ]
  },
  {
   "cell_type": "code",
   "execution_count": 16,
   "metadata": {},
   "outputs": [],
   "source": [
    "import pickle\n",
    "import os"
   ]
  },
  {
   "cell_type": "code",
   "execution_count": 17,
   "metadata": {},
   "outputs": [
    {
     "name": "stdout",
     "output_type": "stream",
     "text": [
      "Saved best model (LogisticRegression) to ../models/best_model.pkl\n"
     ]
    }
   ],
   "source": [
    "models_dir = '../models/'\n",
    "if not os.path.exists(models_dir):\n",
    "    os.makedirs(models_dir)\n",
    "\n",
    "model_filename = os.path.join(models_dir, 'best_model.pkl')\n",
    "with open(model_filename, 'wb') as f:\n",
    "    pickle.dump(best_overall_model, f)\n",
    "print(f\"Saved best model ({best_overall_model_name}) to {model_filename}\")"
   ]
  }
 ],
 "metadata": {
  "kernelspec": {
   "display_name": "intern",
   "language": "python",
   "name": "python3"
  },
  "language_info": {
   "codemirror_mode": {
    "name": "ipython",
    "version": 3
   },
   "file_extension": ".py",
   "mimetype": "text/x-python",
   "name": "python",
   "nbconvert_exporter": "python",
   "pygments_lexer": "ipython3",
   "version": "3.12.11"
  }
 },
 "nbformat": 4,
 "nbformat_minor": 4
}
